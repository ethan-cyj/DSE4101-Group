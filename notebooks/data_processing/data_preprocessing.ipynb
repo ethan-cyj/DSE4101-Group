{
 "cells": [
  {
   "cell_type": "markdown",
   "metadata": {},
   "source": [
    "### Import packages"
   ]
  },
  {
   "cell_type": "code",
   "execution_count": 1,
   "metadata": {},
   "outputs": [],
   "source": [
    "import pandas as pd\n",
    "import numpy as np\n",
    "import matplotlib.pyplot as plt"
   ]
  },
  {
   "cell_type": "markdown",
   "metadata": {},
   "source": [
    "### Read in Raw file"
   ]
  },
  {
   "cell_type": "code",
   "execution_count": 4,
   "metadata": {},
   "outputs": [],
   "source": [
    "# File path for ETH‑USD minute data\n",
    "ethusd_file_path = \"../../data/raw/minute/ethusd.csv\""
   ]
  },
  {
   "cell_type": "code",
   "execution_count": 5,
   "metadata": {},
   "outputs": [
    {
     "data": {
      "application/vnd.microsoft.datawrangler.viewer.v0+json": {
       "columns": [
        {
         "name": "time",
         "rawType": "datetime64[ns]",
         "type": "datetime"
        },
        {
         "name": "open",
         "rawType": "float64",
         "type": "float"
        },
        {
         "name": "close",
         "rawType": "float64",
         "type": "float"
        },
        {
         "name": "high",
         "rawType": "float64",
         "type": "float"
        },
        {
         "name": "low",
         "rawType": "float64",
         "type": "float"
        },
        {
         "name": "volume",
         "rawType": "float64",
         "type": "float"
        }
       ],
       "conversionMethod": "pd.DataFrame",
       "ref": "9f658999-ef95-4b6b-9b15-bb790be41c26",
       "rows": [
        [
         "2016-03-09 16:04:00",
         "10.297",
         "10.097",
         "10.297",
         "10.097",
         "0.03"
        ],
        [
         "2016-03-09 17:49:00",
         "11.197",
         "11.197",
         "11.197",
         "11.197",
         "0.01"
        ],
        [
         "2016-03-09 18:56:00",
         "11.097",
         "11.097",
         "11.097",
         "11.097",
         "0.02"
        ],
        [
         "2016-03-09 20:16:00",
         "11.195",
         "11.195",
         "11.195",
         "11.195",
         "0.01"
        ],
        [
         "2016-03-09 20:21:00",
         "10.87",
         "10.87",
         "10.87",
         "10.87",
         "1.0"
        ]
       ],
       "shape": {
        "columns": 5,
        "rows": 5
       }
      },
      "text/html": [
       "<div>\n",
       "<style scoped>\n",
       "    .dataframe tbody tr th:only-of-type {\n",
       "        vertical-align: middle;\n",
       "    }\n",
       "\n",
       "    .dataframe tbody tr th {\n",
       "        vertical-align: top;\n",
       "    }\n",
       "\n",
       "    .dataframe thead th {\n",
       "        text-align: right;\n",
       "    }\n",
       "</style>\n",
       "<table border=\"1\" class=\"dataframe\">\n",
       "  <thead>\n",
       "    <tr style=\"text-align: right;\">\n",
       "      <th></th>\n",
       "      <th>open</th>\n",
       "      <th>close</th>\n",
       "      <th>high</th>\n",
       "      <th>low</th>\n",
       "      <th>volume</th>\n",
       "    </tr>\n",
       "    <tr>\n",
       "      <th>time</th>\n",
       "      <th></th>\n",
       "      <th></th>\n",
       "      <th></th>\n",
       "      <th></th>\n",
       "      <th></th>\n",
       "    </tr>\n",
       "  </thead>\n",
       "  <tbody>\n",
       "    <tr>\n",
       "      <th>2016-03-09 16:04:00</th>\n",
       "      <td>10.297</td>\n",
       "      <td>10.097</td>\n",
       "      <td>10.297</td>\n",
       "      <td>10.097</td>\n",
       "      <td>0.03</td>\n",
       "    </tr>\n",
       "    <tr>\n",
       "      <th>2016-03-09 17:49:00</th>\n",
       "      <td>11.197</td>\n",
       "      <td>11.197</td>\n",
       "      <td>11.197</td>\n",
       "      <td>11.197</td>\n",
       "      <td>0.01</td>\n",
       "    </tr>\n",
       "    <tr>\n",
       "      <th>2016-03-09 18:56:00</th>\n",
       "      <td>11.097</td>\n",
       "      <td>11.097</td>\n",
       "      <td>11.097</td>\n",
       "      <td>11.097</td>\n",
       "      <td>0.02</td>\n",
       "    </tr>\n",
       "    <tr>\n",
       "      <th>2016-03-09 20:16:00</th>\n",
       "      <td>11.195</td>\n",
       "      <td>11.195</td>\n",
       "      <td>11.195</td>\n",
       "      <td>11.195</td>\n",
       "      <td>0.01</td>\n",
       "    </tr>\n",
       "    <tr>\n",
       "      <th>2016-03-09 20:21:00</th>\n",
       "      <td>10.870</td>\n",
       "      <td>10.870</td>\n",
       "      <td>10.870</td>\n",
       "      <td>10.870</td>\n",
       "      <td>1.00</td>\n",
       "    </tr>\n",
       "  </tbody>\n",
       "</table>\n",
       "</div>"
      ],
      "text/plain": [
       "                       open   close    high     low  volume\n",
       "time                                                       \n",
       "2016-03-09 16:04:00  10.297  10.097  10.297  10.097    0.03\n",
       "2016-03-09 17:49:00  11.197  11.197  11.197  11.197    0.01\n",
       "2016-03-09 18:56:00  11.097  11.097  11.097  11.097    0.02\n",
       "2016-03-09 20:16:00  11.195  11.195  11.195  11.195    0.01\n",
       "2016-03-09 20:21:00  10.870  10.870  10.870  10.870    1.00"
      ]
     },
     "execution_count": 5,
     "metadata": {},
     "output_type": "execute_result"
    }
   ],
   "source": [
    "# Load the minute-level data\n",
    "data = pd.read_csv(ethusd_file_path)\n",
    "\n",
    "# Convert Unix Timestamp (milliseconds) to datetime (keeping it as a column)\n",
    "data['time'] = pd.to_datetime(data['time'], unit='ms')\n",
    "\n",
    "# Sort by time\n",
    "data = data.sort_values('time')\n",
    "\n",
    "# Set 'time' as index temporarily to resample\n",
    "data = data.set_index('time')\n",
    "\n",
    "# Check the data\n",
    "data.head()"
   ]
  },
  {
   "cell_type": "markdown",
   "metadata": {},
   "source": [
    "#### Checking No. of obs per day"
   ]
  },
  {
   "cell_type": "code",
   "execution_count": 6,
   "metadata": {},
   "outputs": [
    {
     "data": {
      "image/png": "[encoded data removed]",
      "text/plain": [
       "<Figure size 1200x600 with 1 Axes>"
      ]
     },
     "metadata": {},
     "output_type": "display_data"
    }
   ],
   "source": [
    "# Calculate number of records per day\n",
    "count = data['open'].resample('1D').apply(lambda x: x.count())\n",
    "\n",
    "# Plot the number of records per day\n",
    "plt.figure(figsize=(12, 6))\n",
    "plt.plot(count)\n",
    "plt.title('Number of Records per Day')\n",
    "plt.grid()\n",
    "plt.show()"
   ]
  },
  {
   "cell_type": "code",
   "execution_count": 7,
   "metadata": {},
   "outputs": [
    {
     "data": {
      "text/plain": [
       "DatetimeIndex(['2016-04-01', '2016-04-02', '2016-04-03', '2016-04-04',\n",
       "               '2016-04-05', '2016-04-06', '2016-04-07', '2016-04-08',\n",
       "               '2016-04-09', '2016-04-10', '2016-04-11', '2016-04-12',\n",
       "               '2016-04-13', '2016-04-14', '2016-04-15', '2016-04-16',\n",
       "               '2016-04-17', '2016-04-18', '2016-04-19', '2016-04-20',\n",
       "               '2016-04-21', '2016-04-22', '2016-04-23', '2016-04-24',\n",
       "               '2016-04-25', '2016-04-26', '2016-04-27', '2016-04-28',\n",
       "               '2016-04-29', '2016-04-30', '2016-05-01', '2016-05-02',\n",
       "               '2016-05-03', '2016-05-04', '2016-05-05', '2016-05-06',\n",
       "               '2016-05-07', '2016-05-08', '2016-05-09', '2016-05-10',\n",
       "               '2016-05-11', '2016-05-12', '2016-05-13', '2016-05-14',\n",
       "               '2016-05-15', '2016-05-16', '2016-05-17', '2016-05-18',\n",
       "               '2016-05-19', '2016-05-20', '2016-05-21', '2016-05-22',\n",
       "               '2016-05-23', '2016-05-24', '2016-05-25', '2016-05-26',\n",
       "               '2016-05-27', '2016-05-28', '2016-05-29', '2016-05-30',\n",
       "               '2016-05-31', '2016-08-03', '2016-08-04', '2016-08-05',\n",
       "               '2016-08-06', '2016-08-07', '2016-08-08', '2016-08-09',\n",
       "               '2023-04-17', '2023-04-20'],\n",
       "              dtype='datetime64[ns]', name='time', freq=None)"
      ]
     },
     "execution_count": 7,
     "metadata": {},
     "output_type": "execute_result"
    }
   ],
   "source": [
    "# find where count is zero\n",
    "zero_count = count[count == 0].index\n",
    "zero_count"
   ]
  },
  {
   "cell_type": "markdown",
   "metadata": {},
   "source": [
    "#### Dropping days prior to Jun-16 and days without transactions"
   ]
  },
  {
   "cell_type": "code",
   "execution_count": 8,
   "metadata": {},
   "outputs": [],
   "source": [
    "# Drop records earlier than 2016-06-01\n",
    "data = data.loc[data.index >= '2016-06-01']\n",
    "\n",
    "# Drop records where count is zero\n",
    "data = data.loc[~data.index.normalize().isin(zero_count)]"
   ]
  },
  {
   "cell_type": "markdown",
   "metadata": {},
   "source": [
    "### Compute intraday log returns and daily RV"
   ]
  },
  {
   "cell_type": "code",
   "execution_count": 9,
   "metadata": {},
   "outputs": [],
   "source": [
    "# Calculate intraday log returns\n",
    "data['Log Return'] = np.log(data['close'] / data['close'].shift(1))\n",
    "\n",
    "# Drop records with missing log returns (the first record)\n",
    "data.dropna(subset=['Log Return'], inplace=True)"
   ]
  },
  {
   "cell_type": "code",
   "execution_count": 10,
   "metadata": {},
   "outputs": [],
   "source": [
    "# Calculate daily realized variance from log returns\n",
    "rv_1d = data['Log Return'].resample('1D').apply(lambda x: np.sum(x**2))\n",
    "\n",
    "# Normalise the realized variance by the number of intraday returns\n",
    "count_1 = data['Log Return'].resample('1D').apply(lambda x: x.count())\n",
    "rv_1d /= count_1"
   ]
  },
  {
   "cell_type": "code",
   "execution_count": 11,
   "metadata": {},
   "outputs": [],
   "source": [
    "# Aggregate minute data into daily data:\n",
    "daily_data = data.resample('1D').agg({\n",
    "    'open': 'first',        # First open price of the day\n",
    "    'close': 'last',        # Last close price of the day\n",
    "    'high': 'max',          # Highest price of the day\n",
    "    'low': 'min',           # Lowest price of the day\n",
    "    'volume': 'sum',        # Total volume for the day\n",
    "})\n",
    "\n",
    "# Add daily realized variance and rename the column\n",
    "daily_data['1D RV'] = rv_1d\n",
    "daily_data.rename(columns={'1D RV': 'RV_d,t'}, inplace=True)\n",
    "\n",
    "# Add number of records per day\n",
    "daily_data['count'] = count_1"
   ]
  },
  {
   "cell_type": "code",
   "execution_count": 12,
   "metadata": {},
   "outputs": [],
   "source": [
    "# Calculate daily returns from the daily close price\n",
    "daily_data['daily_return'] = daily_data['close'].pct_change(fill_method=None)\n",
    "\n",
    "# Drop records with missing daily returns (the first record)\n",
    "daily_data.dropna(subset=['daily_return'], inplace=True)"
   ]
  },
  {
   "cell_type": "code",
   "execution_count": 13,
   "metadata": {},
   "outputs": [
    {
     "data": {
      "application/vnd.microsoft.datawrangler.viewer.v0+json": {
       "columns": [
        {
         "name": "time",
         "rawType": "datetime64[ns]",
         "type": "datetime"
        },
        {
         "name": "open",
         "rawType": "float64",
         "type": "float"
        },
        {
         "name": "close",
         "rawType": "float64",
         "type": "float"
        },
        {
         "name": "high",
         "rawType": "float64",
         "type": "float"
        },
        {
         "name": "low",
         "rawType": "float64",
         "type": "float"
        },
        {
         "name": "volume",
         "rawType": "float64",
         "type": "float"
        },
        {
         "name": "RV_d,t",
         "rawType": "float64",
         "type": "float"
        },
        {
         "name": "count",
         "rawType": "int64",
         "type": "integer"
        },
        {
         "name": "daily_return",
         "rawType": "float64",
         "type": "float"
        }
       ],
       "conversionMethod": "pd.DataFrame",
       "ref": "c26bda89-9705-48e7-a048-1e58ff232e6d",
       "rows": [
        [
         "2016-06-02 00:00:00",
         "13.94",
         "13.77",
         "14.029000000000002",
         "13.608",
         "45433.30358759",
         "5.9706614281622616e-06",
         "426",
         "-0.01254930082466843"
        ],
        [
         "2016-06-03 00:00:00",
         "13.818",
         "13.94",
         "13.99",
         "13.42",
         "57902.82501313",
         "6.993480821885659e-06",
         "564",
         "0.012345679012345734"
        ],
        [
         "2016-06-04 00:00:00",
         "13.94",
         "13.701",
         "13.962",
         "13.404000000000002",
         "40804.62560526",
         "5.052454880742044e-06",
         "430",
         "-0.01714490674318503"
        ],
        [
         "2016-06-05 00:00:00",
         "13.787",
         "13.895",
         "13.969",
         "13.686",
         "16549.05005117",
         "4.8358013533048095e-06",
         "330",
         "0.014159550397781162"
        ],
        [
         "2016-06-06 00:00:00",
         "13.97",
         "13.949000000000002",
         "14.193",
         "13.800999999999998",
         "33303.74277223",
         "5.551045125057711e-06",
         "425",
         "0.0038862900323859417"
        ]
       ],
       "shape": {
        "columns": 8,
        "rows": 5
       }
      },
      "text/html": [
       "<div>\n",
       "<style scoped>\n",
       "    .dataframe tbody tr th:only-of-type {\n",
       "        vertical-align: middle;\n",
       "    }\n",
       "\n",
       "    .dataframe tbody tr th {\n",
       "        vertical-align: top;\n",
       "    }\n",
       "\n",
       "    .dataframe thead th {\n",
       "        text-align: right;\n",
       "    }\n",
       "</style>\n",
       "<table border=\"1\" class=\"dataframe\">\n",
       "  <thead>\n",
       "    <tr style=\"text-align: right;\">\n",
       "      <th></th>\n",
       "      <th>open</th>\n",
       "      <th>close</th>\n",
       "      <th>high</th>\n",
       "      <th>low</th>\n",
       "      <th>volume</th>\n",
       "      <th>RV_d,t</th>\n",
       "      <th>count</th>\n",
       "      <th>daily_return</th>\n",
       "    </tr>\n",
       "    <tr>\n",
       "      <th>time</th>\n",
       "      <th></th>\n",
       "      <th></th>\n",
       "      <th></th>\n",
       "      <th></th>\n",
       "      <th></th>\n",
       "      <th></th>\n",
       "      <th></th>\n",
       "      <th></th>\n",
       "    </tr>\n",
       "  </thead>\n",
       "  <tbody>\n",
       "    <tr>\n",
       "      <th>2016-06-02</th>\n",
       "      <td>13.940</td>\n",
       "      <td>13.770</td>\n",
       "      <td>14.029</td>\n",
       "      <td>13.608</td>\n",
       "      <td>45433.303588</td>\n",
       "      <td>0.000006</td>\n",
       "      <td>426</td>\n",
       "      <td>-0.012549</td>\n",
       "    </tr>\n",
       "    <tr>\n",
       "      <th>2016-06-03</th>\n",
       "      <td>13.818</td>\n",
       "      <td>13.940</td>\n",
       "      <td>13.990</td>\n",
       "      <td>13.420</td>\n",
       "      <td>57902.825013</td>\n",
       "      <td>0.000007</td>\n",
       "      <td>564</td>\n",
       "      <td>0.012346</td>\n",
       "    </tr>\n",
       "    <tr>\n",
       "      <th>2016-06-04</th>\n",
       "      <td>13.940</td>\n",
       "      <td>13.701</td>\n",
       "      <td>13.962</td>\n",
       "      <td>13.404</td>\n",
       "      <td>40804.625605</td>\n",
       "      <td>0.000005</td>\n",
       "      <td>430</td>\n",
       "      <td>-0.017145</td>\n",
       "    </tr>\n",
       "    <tr>\n",
       "      <th>2016-06-05</th>\n",
       "      <td>13.787</td>\n",
       "      <td>13.895</td>\n",
       "      <td>13.969</td>\n",
       "      <td>13.686</td>\n",
       "      <td>16549.050051</td>\n",
       "      <td>0.000005</td>\n",
       "      <td>330</td>\n",
       "      <td>0.014160</td>\n",
       "    </tr>\n",
       "    <tr>\n",
       "      <th>2016-06-06</th>\n",
       "      <td>13.970</td>\n",
       "      <td>13.949</td>\n",
       "      <td>14.193</td>\n",
       "      <td>13.801</td>\n",
       "      <td>33303.742772</td>\n",
       "      <td>0.000006</td>\n",
       "      <td>425</td>\n",
       "      <td>0.003886</td>\n",
       "    </tr>\n",
       "  </tbody>\n",
       "</table>\n",
       "</div>"
      ],
      "text/plain": [
       "              open   close    high     low        volume    RV_d,t  count  \\\n",
       "time                                                                        \n",
       "2016-06-02  13.940  13.770  14.029  13.608  45433.303588  0.000006    426   \n",
       "2016-06-03  13.818  13.940  13.990  13.420  57902.825013  0.000007    564   \n",
       "2016-06-04  13.940  13.701  13.962  13.404  40804.625605  0.000005    430   \n",
       "2016-06-05  13.787  13.895  13.969  13.686  16549.050051  0.000005    330   \n",
       "2016-06-06  13.970  13.949  14.193  13.801  33303.742772  0.000006    425   \n",
       "\n",
       "            daily_return  \n",
       "time                      \n",
       "2016-06-02     -0.012549  \n",
       "2016-06-03      0.012346  \n",
       "2016-06-04     -0.017145  \n",
       "2016-06-05      0.014160  \n",
       "2016-06-06      0.003886  "
      ]
     },
     "execution_count": 13,
     "metadata": {},
     "output_type": "execute_result"
    }
   ],
   "source": [
    "daily_data.head()"
   ]
  },
  {
   "cell_type": "code",
   "execution_count": 14,
   "metadata": {},
   "outputs": [
    {
     "data": {
      "image/png": "[encoded data removed]",
      "text/plain": [
       "<Figure size 1200x600 with 1 Axes>"
      ]
     },
     "metadata": {},
     "output_type": "display_data"
    }
   ],
   "source": [
    "# Plot the daily realized variance\n",
    "plt.figure(figsize=(12, 6))\n",
    "plt.plot(daily_data['RV_d,t'])\n",
    "plt.title('Normalised Daily Realized Variance')\n",
    "plt.grid()\n",
    "plt.show()"
   ]
  },
  {
   "cell_type": "code",
   "execution_count": 15,
   "metadata": {},
   "outputs": [],
   "source": [
    "# Compute rolling averages for realized variance: 7-day and 30-day\n",
    "daily_data['RV_w,t'] = daily_data['RV_d,t'].rolling(window=7).mean()\n",
    "daily_data['RV_m,t'] = daily_data['RV_d,t'].rolling(window=30).mean()\n",
    "\n",
    "# Apply logarithmic transformation to the realized variance measures\n",
    "daily_data['ln_RV_d,t'] = np.log(daily_data['RV_d,t'])\n",
    "daily_data['ln_RV_w,t'] = np.log(daily_data['RV_w,t'])\n",
    "daily_data['ln_RV_m,t'] = np.log(daily_data['RV_m,t'])\n",
    "\n",
    "# Reset the index so that 'time' becomes a column again\n",
    "daily_data = daily_data.reset_index()"
   ]
  },
  {
   "cell_type": "markdown",
   "metadata": {},
   "source": [
    "### Parkinson Volatility values"
   ]
  },
  {
   "cell_type": "code",
   "execution_count": null,
   "metadata": {},
   "outputs": [],
   "source": [
    "def calculate_parkinson(data, window):\n",
    "    \"\"\"\n",
    "    Calculate Parkinson Volatility using high and low prices over a rolling window.\n",
    "    Haven't found a use for this yet.\n",
    "    \n",
    "    Parameters:\n",
    "    - data: DataFrame with 'High' and 'Low' columns.\n",
    "    - window: Rolling window size for Parkinson Volatility (e.g., 7 or 30 days).\n",
    "    \n",
    "    Returns:\n",
    "    - Series containing Parkinson Volatility values.\n",
    "    \"\"\"\n",
    "    parkinson_vol = np.sqrt(\n",
    "        (1 / (4 * np.log(2) * window)) *\n",
    "        (np.log(data['High'] / data['Low']) ** 2).rolling(window=window).sum()\n",
    "    )\n",
    "    return parkinson_vol\n"
   ]
  },
  {
   "cell_type": "markdown",
   "metadata": {},
   "source": [
    "# 2. Fred MD data\n",
    "We will be using the **PublicDataReader** package to pull Fred MD data. You will need to use the FRED API key which can be obtained [here](https://fredaccount.stlouisfed.org/apikey). Store the API key as a local variable using .env file\n",
    "\n",
    "## 2.1 Creating .env and pulling data\n",
    "Uncomment the code and put it in the .env file"
   ]
  },
  {
   "cell_type": "code",
   "execution_count": 16,
   "metadata": {},
   "outputs": [],
   "source": [
    "# FRED_API=\"your_fred_api_key_here\""
   ]
  },
  {
   "cell_type": "markdown",
   "metadata": {},
   "source": [
    "### Download the full dataset from Fred MD"
   ]
  },
  {
   "cell_type": "code",
   "execution_count": 20,
   "metadata": {},
   "outputs": [],
   "source": [
    "import os\n",
    "import io\n",
    "import requests\n",
    "from dotenv import load_dotenv"
   ]
  },
  {
   "cell_type": "code",
   "execution_count": 21,
   "metadata": {},
   "outputs": [
    {
     "name": "stderr",
     "output_type": "stream",
     "text": [
      "/var/folders/cx/mjdsxp6x367bkv2wc28scrt80000gn/T/ipykernel_49848/3848825664.py:17: UserWarning: Could not infer format, so each element will be parsed individually, falling back to `dateutil`. To ensure parsing is consistent and as-expected, please specify a format.\n",
      "  df[\"sasdate\"] = pd.to_datetime(df[\"sasdate\"], errors=\"coerce\")\n"
     ]
    }
   ],
   "source": [
    "# Load API Key\n",
    "load_dotenv()\n",
    "api_key = os.getenv(\"FRED_API\")\n",
    "\n",
    "# Download the full dataset\n",
    "fred_md_url = \"https://files.stlouisfed.org/files/htdocs/fred-md/monthly/current.csv\"\n",
    "\n",
    "response = requests.get(fred_md_url)\n",
    "\n",
    "# Need to use io.StringIO\n",
    "df = pd.read_csv(io.StringIO(response.content.decode('utf-8')))\n",
    "\n",
    "# Too many white spaces in the column names\n",
    "df.columns = df.columns.str.strip()\n",
    "\n",
    "# Convert 'sasdate' to datetime\n",
    "df[\"sasdate\"] = pd.to_datetime(df[\"sasdate\"], errors=\"coerce\")\n",
    "\n",
    "# Remove the sasdate rows with NaT\n",
    "df = df.dropna(subset=[\"sasdate\"])\n",
    "\n",
    "# Remove the sasdate rows that are not dates\n",
    "df = df[df[\"sasdate\"].dt.year > 1960]\n"
   ]
  },
  {
   "cell_type": "markdown",
   "metadata": {},
   "source": [
    "### Merge the datasets and then save"
   ]
  },
  {
   "cell_type": "code",
   "execution_count": 22,
   "metadata": {},
   "outputs": [],
   "source": [
    "daily_data['month_year'] = pd.to_datetime(daily_data['time']).dt.to_period('M')\n",
    "df['month_year'] = df['sasdate'].dt.to_period('M')\n",
    "\n",
    "# Merge the data using the helper column 'month_year'\n",
    "merged_data = pd.merge(daily_data, df, on='month_year', how='inner')\n",
    "\n",
    "# Drop the helper column 'month_year'\n",
    "merged_data.drop(columns='month_year', inplace=True)\n",
    "\n",
    "# Drop sasdate column (Repeated with time column)\n",
    "merged_data.drop(columns='sasdate', inplace=True)\n",
    "\n",
    "# Save the merged data to a CSV file\n",
    "merged_data.to_csv(\"../../data/ethusd_group_project.csv\", index=False)\n"
   ]
  },
  {
   "cell_type": "markdown",
   "metadata": {},
   "source": [
    "# Feature Selection"
   ]
  },
  {
   "cell_type": "code",
   "execution_count": 23,
   "metadata": {},
   "outputs": [],
   "source": [
    "data = pd.read_csv(\"../../data/ethusd_group_project.csv\")\n",
    "\n",
    "# Lag the daily, weekly, and monthly rv measures by one day\n",
    "data['ln_RV_d,t-1'] = data['ln_RV_d,t'].shift(1)\n",
    "data['ln_RV_w,t-1'] = data['ln_RV_w,t'].shift(1)\n",
    "data['ln_RV_m,t-1'] = data['ln_RV_m,t'].shift(1)\n",
    "\n",
    "# Do it for the non-logarithmic RV measures as well\n",
    "data['RV_d,t-1'] = data['RV_d,t'].shift(1)\n",
    "data['RV_w,t-1'] = data['RV_w,t'].shift(1)\n",
    "data['RV_m,t-1'] = data['RV_m,t'].shift(1)\n"
   ]
  },
  {
   "cell_type": "code",
   "execution_count": 24,
   "metadata": {},
   "outputs": [
    {
     "name": "stdout",
     "output_type": "stream",
     "text": [
      "[-0.         -0.         -0.         -0.          0.1651172  -0.\n",
      " -0.         -0.         -0.         -0.         -0.         -0.\n",
      " -0.          0.          0.          0.          0.          0.\n",
      "  0.         -0.          0.          0.00158082  0.         -0.\n",
      "  0.         -0.         -0.         -0.         -0.         -0.\n",
      " -0.          0.00076843  0.         -0.         -0.         -0.\n",
      "  0.         -0.         -0.         -0.         -0.         -0.28181446\n",
      " -0.         -0.         -0.         -0.         -0.         -0.\n",
      "  0.         -0.          0.          0.          0.          0.\n",
      " -0.          0.         -0.         -0.         -0.         -0.\n",
      " -0.         -0.         -0.         -0.         -0.         -0.\n",
      " -0.          0.         -0.          0.         -0.         -0.\n",
      " -0.         -0.         -0.         -0.         -0.01936571 -0.\n",
      " -0.          0.         -0.          0.          0.         -0.\n",
      " -0.         -0.         -0.         -0.         -0.         -0.\n",
      "  0.         -0.          0.         -0.         -0.         -0.\n",
      "  0.          0.          0.12943013  0.          0.          0.\n",
      " -0.         -0.         -0.         -0.         -0.         -0.\n",
      " -0.         -0.         -0.         -0.          0.         -0.\n",
      " -0.         -0.         -0.         -0.         -0.         -0.\n",
      " -0.         -0.          0.         -0.         -0.         -0.\n",
      " -0.         -0.          0.         -0.         -0.         -0.\n",
      " -0.        ]\n",
      "Selected 6 features: ['volume' 'IPNMAT' 'UEMPMEAN' 'USCONS' 'BUSLOANS' 'AAAFFM']\n",
      "Feature selection complete! Saved dataset with important features.\n"
     ]
    }
   ],
   "source": [
    "import pandas as pd\n",
    "import numpy as np\n",
    "from sklearn.preprocessing import StandardScaler\n",
    "from sklearn.linear_model import LassoCV\n",
    "\n",
    "# exclude warnings\n",
    "import warnings\n",
    "warnings.filterwarnings('ignore')\n",
    "\n",
    "data = pd.read_csv(\"../../data/ethusd_group_project.csv\")\n",
    "\n",
    "data = data.dropna()\n",
    "# Also exclude the lagged RV measures\n",
    "to_exclude = ['time', 'ln_RV_d,t', 'ln_RV_w,t', 'ln_RV_m,t', 'RV_d,t', 'RV_w,t', 'RV_m,t']\n",
    "features = [col for col in data.columns if col not in to_exclude]  # Exclude time & target\n",
    "X = data[features].values\n",
    "y = data['ln_RV_d,t'].values  # Predicting next day's realized variance\n",
    "\n",
    "# Standardize Features\n",
    "scaler_X = StandardScaler()\n",
    "scaler_y = StandardScaler()\n",
    "X_scaled = scaler_X.fit_transform(X)\n",
    "y_scaled = scaler_y.fit_transform(y.reshape(-1, 1)).flatten()\n",
    "\n",
    "# Apply LASSO Regression with Cross-Validation\n",
    "lasso = LassoCV(\n",
    "    alphas=np.logspace(-5, 1, 50), \n",
    "    cv=5, \n",
    "    max_iter=10000,  \n",
    "    tol=1e-4,  \n",
    "    random_state=42\n",
    ").fit(X_scaled, y_scaled)\n",
    "\n",
    "print(lasso.coef_)\n",
    "# Select Important Features\n",
    "selected_features = np.array(features)[lasso.coef_ != 0]  # Keep non-zero coefficients\n",
    "print(f\"Selected {len(selected_features)} features: {selected_features}\")\n",
    "\n",
    "# Create a New Dataset with Selected Features\n",
    "data_selected = data[to_exclude + list(selected_features)]\n",
    "data_selected.to_csv(\"../../data/ethusd_lasso_selected.csv\", index=False)\n",
    "\n",
    "print(\"Feature selection complete! Saved dataset with important features.\")"
   ]
  }
 ],
 "metadata": {
  "kernelspec": {
   "display_name": ".venv",
   "language": "python",
   "name": "python3"
  },
  "language_info": {
   "codemirror_mode": {
    "name": "ipython",
    "version": 3
   },
   "file_extension": ".py",
   "mimetype": "text/x-python",
   "name": "python",
   "nbconvert_exporter": "python",
   "pygments_lexer": "ipython3",
   "version": "3.12.3"
  }
 },
 "nbformat": 4,
 "nbformat_minor": 2
}
