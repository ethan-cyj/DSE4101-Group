{
 "cells": [
  {
   "cell_type": "markdown",
   "metadata": {},
   "source": [
    "# 1. ETHUSD Minute Data\n",
    "- Resampling into Daily Data\n",
    "- Daily RV\n",
    "- daily returns (pct change)"
   ]
  },
  {
   "cell_type": "code",
   "execution_count": 2,
   "metadata": {},
   "outputs": [],
   "source": [
    "import pandas as pd\n",
    "import numpy as np\n",
    "import os\n",
    "import io\n",
    "import requests\n",
    "import pandas as pd\n",
    "import numpy as np\n",
    "from dotenv import load_dotenv\n",
    "\n",
    "\n",
    "# File path for ETH‑USD minute data\n",
    "ethusd_file_path = \"../../data/raw/minute/ethusd.csv\"\n",
    "\n",
    "# Load the minute-level data\n",
    "data = pd.read_csv(ethusd_file_path)\n",
    "\n",
    "# Convert Unix Timestamp (milliseconds) to datetime (keeping it as a column)\n",
    "data['time'] = pd.to_datetime(data['time'], unit='ms')\n",
    "\n",
    "# Calculate intraday log returns\n",
    "data['Log Return'] = np.log(data['close'] / data['close'].shift(1))\n",
    "data.dropna(subset=['Log Return'], inplace=True)\n",
    "\n",
    "# Set 'time' as index temporarily to resample\n",
    "data = data.set_index('time')\n",
    "\n",
    "# Calculate daily realized variance from log returns\n",
    "rv_1d = data['Log Return'].resample('1D').apply(lambda x: np.sum(x**2))\n",
    "\n",
    "# Aggregate minute data into daily data:\n",
    "daily_data = data.resample('1D').agg({\n",
    "    'open': 'first',        # First open price of the day\n",
    "    'close': 'last',        # Last close price of the day\n",
    "    'high': 'max',          # Highest price of the day\n",
    "    'low': 'min',           # Lowest price of the day\n",
    "    'volume': 'sum',        # Total volume for the day\n",
    "})\n",
    "\n",
    "# Add daily realized variance and rename the column\n",
    "daily_data['1D RV'] = rv_1d\n",
    "daily_data.rename(columns={'1D RV': 'RV_d,t'}, inplace=True)\n",
    "\n",
    "# Drop days with incomplete data\n",
    "daily_data.dropna(subset=['open', 'close', 'high', 'low', 'volume', 'RV_d,t'], inplace=True)\n",
    "\n",
    "# Calculate daily returns from the daily close price\n",
    "daily_data['daily_return'] = daily_data['close'].pct_change()\n",
    "\n",
    "# Compute rolling averages for realized variance: 7-day and 30-day\n",
    "daily_data['RV_w,t'] = daily_data['RV_d,t'].rolling(window=7).mean()\n",
    "daily_data['RV_m,t'] = daily_data['RV_d,t'].rolling(window=30).mean()\n",
    "\n",
    "# Apply logarithmic transformation to the realized variance measures\n",
    "daily_data['ln_RV_d,t'] = np.log(daily_data['RV_d,t'])\n",
    "daily_data['ln_RV_w,t'] = np.log(daily_data['RV_w,t'])\n",
    "daily_data['ln_RV_m,t'] = np.log(daily_data['RV_m,t'])\n",
    "\n",
    "# Reset the index so that 'time' becomes a column again\n",
    "daily_data = daily_data.reset_index()\n"
   ]
  },
  {
   "cell_type": "code",
   "execution_count": 3,
   "metadata": {},
   "outputs": [],
   "source": [
    "def calculate_parkinson(data, window):\n",
    "    \"\"\"\n",
    "    Calculate Parkinson Volatility using high and low prices over a rolling window.\n",
    "    Haven't found a use for this yet.\n",
    "    \n",
    "    Parameters:\n",
    "    - data: DataFrame with 'High' and 'Low' columns.\n",
    "    - window: Rolling window size for Parkinson Volatility (e.g., 7 or 30 days).\n",
    "    \n",
    "    Returns:\n",
    "    - Series containing Parkinson Volatility values.\n",
    "    \"\"\"\n",
    "    parkinson_vol = np.sqrt(\n",
    "        (1 / (4 * np.log(2) * window)) *\n",
    "        (np.log(data['High'] / data['Low']) ** 2).rolling(window=window).sum()\n",
    "    )\n",
    "    return parkinson_vol\n"
   ]
  },
  {
   "cell_type": "markdown",
   "metadata": {},
   "source": [
    "# 2. Fred MD data\n",
    "We will be using the **PublicDataReader** package to pull Fred MD data. You will need to use the FRED API key which can be obtained [here](https://fredaccount.stlouisfed.org/apikey). Store the API key as a local variable using .env file\n",
    "\n",
    "## 2.1 Creating .env and pulling data\n",
    "Uncomment the code and put it in the .env file"
   ]
  },
  {
   "cell_type": "code",
   "execution_count": 4,
   "metadata": {},
   "outputs": [],
   "source": [
    "# FRED_API=\"your_fred_api_key_here\""
   ]
  },
  {
   "cell_type": "markdown",
   "metadata": {},
   "source": [
    "## 2.2 Download the full dataset from Fred MD\n"
   ]
  },
  {
   "cell_type": "code",
   "execution_count": 5,
   "metadata": {},
   "outputs": [
    {
     "name": "stderr",
     "output_type": "stream",
     "text": [
      "C:\\Users\\young\\AppData\\Local\\Temp\\ipykernel_26672\\3848825664.py:17: UserWarning: Could not infer format, so each element will be parsed individually, falling back to `dateutil`. To ensure parsing is consistent and as-expected, please specify a format.\n",
      "  df[\"sasdate\"] = pd.to_datetime(df[\"sasdate\"], errors=\"coerce\")\n"
     ]
    }
   ],
   "source": [
    "# Load API Key\n",
    "load_dotenv()\n",
    "api_key = os.getenv(\"FRED_API\")\n",
    "\n",
    "# Download the full dataset\n",
    "fred_md_url = \"https://files.stlouisfed.org/files/htdocs/fred-md/monthly/current.csv\"\n",
    "\n",
    "response = requests.get(fred_md_url)\n",
    "\n",
    "# Need to use io.StringIO\n",
    "df = pd.read_csv(io.StringIO(response.content.decode('utf-8')))\n",
    "\n",
    "# Too many white spaces in the column names\n",
    "df.columns = df.columns.str.strip()\n",
    "\n",
    "# Convert 'sasdate' to datetime\n",
    "df[\"sasdate\"] = pd.to_datetime(df[\"sasdate\"], errors=\"coerce\")\n",
    "\n",
    "# Remove the sasdate rows with NaT\n",
    "df = df.dropna(subset=[\"sasdate\"])\n",
    "\n",
    "# Remove the sasdate rows that are not dates\n",
    "df = df[df[\"sasdate\"].dt.year > 1960]\n"
   ]
  },
  {
   "cell_type": "markdown",
   "metadata": {},
   "source": [
    "# 3. Merge the datasets and then save"
   ]
  },
  {
   "cell_type": "code",
   "execution_count": 6,
   "metadata": {},
   "outputs": [],
   "source": [
    "daily_data['month_year'] = pd.to_datetime(daily_data['time']).dt.to_period('M')\n",
    "df['month_year'] = df['sasdate'].dt.to_period('M')\n",
    "\n",
    "# Merge the data using the helper column 'month_year'\n",
    "merged_data = pd.merge(daily_data, df, on='month_year', how='inner')\n",
    "\n",
    "# Drop the helper column 'month_year'\n",
    "merged_data.drop(columns='month_year', inplace=True)\n",
    "\n",
    "# Drop sasdate column (Repeated with time column)\n",
    "merged_data.drop(columns='sasdate', inplace=True)\n",
    "\n",
    "# Save the merged data to a CSV file\n",
    "merged_data.to_csv(\"../../data/ethusd_group_project.csv\", index=False)\n"
   ]
  },
  {
   "cell_type": "markdown",
   "metadata": {},
   "source": [
    "# Feature Selection"
   ]
  },
  {
   "cell_type": "markdown",
   "metadata": {},
   "source": [
    "## Adding lagged data as a new feature"
   ]
  },
  {
   "cell_type": "code",
   "execution_count": 7,
   "metadata": {},
   "outputs": [],
   "source": [
    "data = pd.read_csv(\"../../data/ethusd_group_project.csv\")\n",
    "\n",
    "# Lag the daily, weekly, and monthly rv measures by one day\n",
    "data['ln_RV_d,t-1'] = data['ln_RV_d,t'].shift(1)\n",
    "data['ln_RV_w,t-1'] = data['ln_RV_w,t'].shift(1)\n",
    "data['ln_RV_m,t-1'] = data['ln_RV_m,t'].shift(1)\n",
    "\n",
    "# Do it for the non-logarithmic RV measures as well\n",
    "data['RV_d,t-1'] = data['RV_d,t'].shift(1)\n",
    "data['RV_w,t-1'] = data['RV_w,t'].shift(1)\n",
    "data['RV_m,t-1'] = data['RV_m,t'].shift(1)\n"
   ]
  },
  {
   "cell_type": "code",
   "execution_count": 10,
   "metadata": {},
   "outputs": [
    {
     "name": "stdout",
     "output_type": "stream",
     "text": [
      "Selected 4 features: ['volume' 'CLF16OV' 'UEMPMEAN' 'AAAFFM']\n",
      "Feature selection complete! Saved dataset with important features.\n"
     ]
    }
   ],
   "source": [
    "import pandas as pd\n",
    "import numpy as np\n",
    "from sklearn.preprocessing import StandardScaler\n",
    "from sklearn.linear_model import LassoCV\n",
    "\n",
    "# exclude warnings\n",
    "import warnings\n",
    "warnings.filterwarnings('ignore')\n",
    "\n",
    "data = pd.read_csv(\"../../data/ethusd_group_project.csv\")\n",
    "\n",
    "data = data.dropna()\n",
    "# Also exclude the lagged RV measures\n",
    "to_exclude = ['time', 'ln_RV_d,t', 'ln_RV_w,t', 'ln_RV_m,t', 'RV_d,t', 'RV_w,t', 'RV_m,t']\n",
    "features = [col for col in data.columns if col not in to_exclude]  # Exclude time & target\n",
    "X = data[features].values\n",
    "y = data['ln_RV_d,t'].values  # Predicting next day's realized variance\n",
    "\n",
    "# Standardize Features\n",
    "scaler_X = StandardScaler()\n",
    "scaler_y = StandardScaler()\n",
    "X_scaled = scaler_X.fit_transform(X)\n",
    "y_scaled = scaler_y.fit_transform(y.reshape(-1, 1)).flatten()\n",
    "\n",
    "# Apply LASSO Regression with Cross-Validation\n",
    "lasso = LassoCV(\n",
    "    alphas=np.logspace(-5, 1, 50), \n",
    "    cv=5, \n",
    "    max_iter=10000,  \n",
    "    tol=1e-4,  \n",
    "    random_state=42\n",
    ").fit(X_scaled, y_scaled)\n",
    "\n",
    "print(lasso.coef_)\n",
    "# Select Important Features\n",
    "selected_features = np.array(features)[lasso.coef_ != 0]  # Keep non-zero coefficients\n",
    "print(f\"Selected {len(selected_features)} features: {selected_features}\")\n",
    "\n",
    "# Create a New Dataset with Selected Features\n",
    "data_selected = data[to_exclude + list(selected_features)]\n",
    "data_selected.to_csv(\"../../data/ethusd_lasso_selected.csv\", index=False)\n",
    "\n",
    "print(\"Feature selection complete! Saved dataset with important features.\")"
   ]
  }
 ],
 "metadata": {
  "kernelspec": {
   "display_name": "Python 3",
   "language": "python",
   "name": "python3"
  },
  "language_info": {
   "codemirror_mode": {
    "name": "ipython",
    "version": 3
   },
   "file_extension": ".py",
   "mimetype": "text/x-python",
   "name": "python",
   "nbconvert_exporter": "python",
   "pygments_lexer": "ipython3",
   "version": "3.12.2"
  }
 },
 "nbformat": 4,
 "nbformat_minor": 2
}
